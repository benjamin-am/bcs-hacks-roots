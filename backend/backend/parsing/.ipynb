{
 "cells": [
  {
   "cell_type": "code",
   "execution_count": 62,
   "metadata": {},
   "outputs": [],
   "source": [
    "import psycopg2\n",
    "from psycopg2 import sql"
   ]
  },
  {
   "cell_type": "code",
   "execution_count": 63,
   "metadata": {},
   "outputs": [],
   "source": [
    "conn = psycopg2.connect(\n",
    "    dbname=\"bcs-hacks-roots\",  # Replace with your database name\n",
    "    user=\"bcs-hacks-roots\",       # Replace with your username\n",
    "    password=\"benericajasminebrett\",  # Replace with your password\n",
    "    host=\"128.189.88.139\",  # Replace with your host (e.g., localhost)\n",
    "    port=\"5432\"        # Replace with your port if different\n",
    ")"
   ]
  },
  {
   "cell_type": "code",
   "execution_count": 64,
   "metadata": {},
   "outputs": [],
   "source": [
    "# Create a cursor object\n",
    "cur = conn.cursor()\n",
    "\n",
    "# Function to insert a new row\n",
    "def insert_row(title, content, embeddings):\n",
    "    insert_query = \"\"\"\n",
    "    INSERT INTO note_data (title, content, embeddings)\n",
    "    VALUES (%s, %s, %s)\n",
    "    \"\"\"\n",
    "    cur.execute(insert_query, (title, content, embeddings))\n",
    "    conn.commit()"
   ]
  },
  {
   "cell_type": "code",
   "execution_count": 65,
   "metadata": {},
   "outputs": [],
   "source": [
    "import markdown_parser\n",
    "import os\n",
    "import embedding_strings\n",
    "import numpy as np\n",
    "\n",
    "path = os.path.abspath(os.path.join(os.getcwd(), \"../../../resources/sample-notes-markdown/TestData\"))\n",
    "\n",
    "for dirpath, dirnames, filenames in os.walk(path):\n",
    "    for filename in filenames:\n",
    "        # Full path of each file\n",
    "        # print(filename)\n",
    "        # print(dirpath)\n",
    "        file = dirpath + \"\\\\\" + filename\n",
    "        # print(markdown_parser.markdown_plaintext(file))\n",
    "        title = markdown_parser.markdown_plaintext(file)[0]\n",
    "        content = markdown_parser.markdown_plaintext(file)[2]\n",
    "        embeddings = embedding_strings.word_embeddings(markdown_parser.markdown_plaintext(file))\n",
    "        avg_query_embedding = np.mean([emb for emb in embeddings.values()], axis=0)\n",
    "        avg_query_embedding_list = avg_query_embedding.tolist()\n",
    "        insert_row(title, content, avg_query_embedding_list)\n",
    "        # print(embedding_strings.content_counter(markdown_parser.markdown_plaintext(file)))\n",
    "        # print(embedding_strings.word_embeddings(markdown_parser.markdown_plaintext(file)))\n",
    "        \n",
    "        "
   ]
  },
  {
   "cell_type": "code",
   "execution_count": null,
   "metadata": {},
   "outputs": [],
   "source": []
  }
 ],
 "metadata": {
  "kernelspec": {
   "display_name": "stack",
   "language": "python",
   "name": "python3"
  },
  "language_info": {
   "codemirror_mode": {
    "name": "ipython",
    "version": 3
   },
   "file_extension": ".py",
   "mimetype": "text/x-python",
   "name": "python",
   "nbconvert_exporter": "python",
   "pygments_lexer": "ipython3",
   "version": "3.10.16"
  }
 },
 "nbformat": 4,
 "nbformat_minor": 2
}
