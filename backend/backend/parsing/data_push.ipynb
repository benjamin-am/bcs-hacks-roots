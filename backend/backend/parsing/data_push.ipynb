{
 "cells": [
  {
   "cell_type": "code",
   "execution_count": null,
   "metadata": {},
   "outputs": [],
   "source": [
    "import psycopg2\n",
    "from psycopg2 import sql\n",
    "import os\n",
    "from dotenv import load_dotenv\n",
    "import markdown_parser\n",
    "import embedding_strings\n",
    "import numpy as np"
   ]
  },
  {
   "cell_type": "code",
   "execution_count": 27,
   "metadata": {},
   "outputs": [
    {
     "name": "stdout",
     "output_type": "stream",
     "text": [
      "127.0.0.1\n"
     ]
    }
   ],
   "source": [
    "load_dotenv()\n",
    "print(os.getenv('POSTGRES_HOST'))\n",
    "\n",
    "\n",
    "conn = psycopg2.connect(\n",
    "    dbname=os.getenv('POSTGRES_DB'),  # Replace with your database name\n",
    "    user=os.getenv('POSTGRES_USER'),       # Replace with your username\n",
    "    password=os.getenv('POSTGRES_PASSWORD'),  # Replace with your password\n",
    "    host=os.getenv('POSTGRES_HOST'),  # Replace with your host (e.g., localhost)\n",
    "    port=os.getenv('PORT', '5432')      # Replace with your port if different\n",
    ")\n"
   ]
  },
  {
   "cell_type": "code",
   "execution_count": 2,
   "metadata": {},
   "outputs": [],
   "source": [
    "import sys\n",
    "sys.path.append(os.path.abspath(\"../llm\"))\n",
    "from service import get_text_embeddings_llama\n",
    "\n",
    "# update EMBEDDING to the embedding you want to use\n",
    "EMBEDDING = \"llama\" # or \"sentenceTransformer\"\n"
   ]
  },
  {
   "cell_type": "code",
   "execution_count": 51,
   "metadata": {},
   "outputs": [],
   "source": [
    "# data path - update this to change data directory\n",
    "path = os.path.abspath(os.path.join(os.getcwd(), \"../../../resources/sample-notes-markdown/GeneratedTestData\"))\n"
   ]
  },
  {
   "cell_type": "code",
   "execution_count": 52,
   "metadata": {},
   "outputs": [],
   "source": [
    "# Create a cursor object\n",
    "cur = conn.cursor()\n",
    "\n",
    "# Create the table if it doesn't exist\n",
    "create_table_query = \"\"\"\n",
    "CREATE TABLE IF NOT EXISTS note_data (\n",
    "    id SERIAL PRIMARY KEY,  \n",
    "    title VARCHAR(255) NOT NULL,  \n",
    "    content TEXT,  \n",
    "    created_at DATE DEFAULT CURRENT_DATE,  \n",
    "    updated_at DATE DEFAULT CURRENT_DATE,\n",
    "    embeddings DOUBLE PRECISION[]\n",
    ");\n",
    "\"\"\"\n",
    "cur.execute(create_table_query)\n",
    "conn.commit()\n",
    "\n",
    "# Function to insert a new row\n",
    "def insert_row(title, content, embeddings):\n",
    "    insert_query = \"\"\"\n",
    "    INSERT INTO note_data (title, content, embeddings)\n",
    "    VALUES (%s, %s, %s)\n",
    "    \"\"\"\n",
    "    try:\n",
    "        cur.execute(insert_query, (title, content, embeddings))\n",
    "        conn.commit()\n",
    "    except Exception as e:\n",
    "        conn.rollback()\n",
    "        print(f\"Insert failed for title: {title} — {e}\")\n",
    "\n",
    "\n",
    "for dirpath, dirnames, filenames in os.walk(path):\n",
    "    for filename in filenames:\n",
    "        # Update / to \\\\ if you are in windows \n",
    "        file = dirpath + \"/\" + filename \n",
    "        parsed = markdown_parser.markdown_plaintext(file)\n",
    "\n",
    "        title = filename.replace(\".md\", \"\")\n",
    "        content = \" \".join(parsed)\n",
    "\n",
    "        if EMBEDDING  == \"llama\":\n",
    "            embeddings = get_text_embeddings_llama(content)\n",
    "            insert_row(title, content, embeddings)\n",
    "        if EMBEDDING == \"SentenceTransformer\":\n",
    "            embeddings = embedding_strings.word_embeddings(markdown_parser.markdown_plaintext(file))\n",
    "            avg_query_embedding = np.mean([emb for emb in embeddings.values()], axis=0)\n",
    "            avg_query_embedding_list = avg_query_embedding.tolist()\n",
    "            insert_row(title, content, avg_query_embedding_list)\n"
   ]
  },
  {
   "cell_type": "code",
   "execution_count": 23,
   "metadata": {},
   "outputs": [],
   "source": [
    "# close the connection \n",
    "cur.close()\n",
    "conn.close()"
   ]
  },
  {
   "cell_type": "code",
   "execution_count": 24,
   "metadata": {},
   "outputs": [
    {
     "data": {
      "text/plain": [
       "3072"
      ]
     },
     "execution_count": 24,
     "metadata": {},
     "output_type": "execute_result"
    }
   ],
   "source": [
    "len(an)"
   ]
  },
  {
   "cell_type": "code",
   "execution_count": null,
   "metadata": {},
   "outputs": [],
   "source": []
  }
 ],
 "metadata": {
  "kernelspec": {
   "display_name": "stack",
   "language": "python",
   "name": "python3"
  },
  "language_info": {
   "codemirror_mode": {
    "name": "ipython",
    "version": 3
   },
   "file_extension": ".py",
   "mimetype": "text/x-python",
   "name": "python",
   "nbconvert_exporter": "python",
   "pygments_lexer": "ipython3",
   "version": "3.10.16"
  }
 },
 "nbformat": 4,
 "nbformat_minor": 2
}
